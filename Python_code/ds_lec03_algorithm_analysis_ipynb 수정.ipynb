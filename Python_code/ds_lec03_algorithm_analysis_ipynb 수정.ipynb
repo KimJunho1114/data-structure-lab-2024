{
  "nbformat": 4,
  "nbformat_minor": 0,
  "metadata": {
    "colab": {
      "provenance": []
    },
    "kernelspec": {
      "name": "python3",
      "display_name": "Python 3"
    },
    "language_info": {
      "name": "python"
    }
  },
  "cells": [
    {
      "cell_type": "markdown",
      "source": [
        "> ### Data Structures & Programming Basics\n",
        "\n",
        "# Lecture03: Algorithm Analysis"
      ],
      "metadata": {
        "id": "YKk-ap7mRiIY"
      }
    },
    {
      "cell_type": "markdown",
      "source": [
        "##1. Insertion and Time"
      ],
      "metadata": {
        "id": "DN6n4qcATClI"
      }
    },
    {
      "cell_type": "code",
      "execution_count": null,
      "metadata": {
        "id": "uqsSntWCQbwv"
      },
      "outputs": [],
      "source": [
        "def contains(bag, e) : #contains라는 함수에 bag, e가 있음\n",
        "    return e in bag\n",
        "\n",
        "def insert(bag, e) : #bag이라는 리스트 제일 뒤에 e를 넣음\n",
        "    bag.append(e)\n",
        "\n",
        "def insert_first(bag, e) : #bag이라는 리스트 제일 앞에 e를 넣음,0위치에 e를 넣음\n",
        "    bag.insert(0, e)\n",
        "\n",
        "def remove(bag, e) :    #bag에서 e를 지우겠다.\n",
        "    bag.remove(e)\n",
        "\n",
        "def count(bag):\n",
        "    return len(bag) #bag의 길이를 리턴해라"
      ]
    },
    {
      "cell_type": "code",
      "execution_count": null,
      "metadata": {
        "id": "IKZDKxPMQbww",
        "outputId": "93f638f0-7c7b-41bc-a685-eb99b47e60f4",
        "colab": {
          "base_uri": "https://localhost:8080/"
        }
      },
      "outputs": [
        {
          "output_type": "stream",
          "name": "stdout",
          "text": [
            "가방속의 물건: ['휴대폰', '지갑', '손수건', '빗', '자료구조', '야구공']\n",
            "가방속의 물건: ['휴대폰', '지갑', '빗', '자료구조', '야구공', '빗']\n"
          ]
        }
      ],
      "source": [
        "myBag = [] #아무것도 없는 리스트\n",
        "insert(myBag, '휴대폰')\n",
        "insert(myBag, '지갑')\n",
        "insert(myBag, '손수건')\n",
        "insert(myBag, '빗')\n",
        "insert(myBag, '자료구조')\n",
        "insert(myBag, '야구공')\n",
        "print('가방속의 물건:', myBag)\n",
        "\n",
        "insert(myBag, '빗')\n",
        "remove(myBag, '손수건')\n",
        "print('가방속의 물건:', myBag)"
      ]
    },
    {
      "cell_type": "markdown",
      "metadata": {
        "id": "TuKHswVnQbww"
      },
      "source": [
        "### Time module\n"
      ]
    },
    {
      "cell_type": "code",
      "execution_count": null,
      "metadata": {
        "id": "f0veI68WQbww"
      },
      "outputs": [],
      "source": [
        "import time\n",
        "\n",
        "myBag = []\n",
        "start = time.time()\n",
        "for i in range(10000):\n",
        "    insert_first(myBag, '펜')\n",
        "end = time.time()"
      ]
    },
    {
      "cell_type": "code",
      "execution_count": null,
      "metadata": {
        "id": "_ZTbFg8NQbww",
        "outputId": "f97d7e7b-f61b-4f8f-80be-ed5f6c534129"
      },
      "outputs": [
        {
          "data": {
            "text/plain": [
              "1649766744.8884594"
            ]
          },
          "execution_count": 4,
          "metadata": {},
          "output_type": "execute_result"
        }
      ],
      "source": [
        "start"
      ]
    },
    {
      "cell_type": "code",
      "execution_count": null,
      "metadata": {
        "id": "Z-nqNcFRQbww",
        "outputId": "69a3b814-bf8a-4f79-9ee2-6c9e9b8a565e"
      },
      "outputs": [
        {
          "data": {
            "text/plain": [
              "1649766744.901425"
            ]
          },
          "execution_count": 5,
          "metadata": {},
          "output_type": "execute_result"
        }
      ],
      "source": [
        "end"
      ]
    },
    {
      "cell_type": "code",
      "execution_count": null,
      "metadata": {
        "id": "b9pvGxQuQbww",
        "outputId": "9ce0729b-c364-439d-c68c-bda8ac826853",
        "colab": {
          "base_uri": "https://localhost:8080/"
        }
      },
      "outputs": [
        {
          "output_type": "stream",
          "name": "stdout",
          "text": [
            "running time :  0.0331409 seconds\n"
          ]
        }
      ],
      "source": [
        "print(\"running time : %10.7f seconds\" % (end - start))"
      ]
    },
    {
      "cell_type": "code",
      "execution_count": null,
      "metadata": {
        "id": "4LAqftPiQbww"
      },
      "outputs": [],
      "source": [
        "myBag = []\n",
        "start = time.time()\n",
        "for i in range(10000):\n",
        "    insert(myBag, '펜')\n",
        "end = time.time()"
      ]
    },
    {
      "cell_type": "code",
      "execution_count": null,
      "metadata": {
        "id": "tyHoHvMEQbwx",
        "outputId": "772428e1-e76d-41cb-9a64-8c3d7401ca05",
        "colab": {
          "base_uri": "https://localhost:8080/"
        }
      },
      "outputs": [
        {
          "output_type": "execute_result",
          "data": {
            "text/plain": [
              "1711506099.7725716"
            ]
          },
          "metadata": {},
          "execution_count": 8
        }
      ],
      "source": [
        "start"
      ]
    },
    {
      "cell_type": "code",
      "execution_count": null,
      "metadata": {
        "id": "qz1mbuWeQbwx",
        "outputId": "11524364-6f1e-431d-d800-f01b192ac08c",
        "colab": {
          "base_uri": "https://localhost:8080/"
        }
      },
      "outputs": [
        {
          "output_type": "execute_result",
          "data": {
            "text/plain": [
              "1711506099.8057125"
            ]
          },
          "metadata": {},
          "execution_count": 9
        }
      ],
      "source": [
        "end"
      ]
    },
    {
      "cell_type": "code",
      "execution_count": null,
      "metadata": {
        "id": "Cuw94_3kQbwy",
        "outputId": "130b1460-3ca1-4b31-9be2-4c4790ffb8f9",
        "colab": {
          "base_uri": "https://localhost:8080/"
        }
      },
      "outputs": [
        {
          "output_type": "stream",
          "name": "stdout",
          "text": [
            "running time :  0.0331409 seconds\n"
          ]
        }
      ],
      "source": [
        "print(\"running time : %10.7f seconds\" % (end - start))"
      ]
    },
    {
      "cell_type": "markdown",
      "metadata": {
        "id": "hlkN53GPQbvY"
      },
      "source": [
        "\n",
        "## 2. What Is Algorithm Analysis?"
      ]
    },
    {
      "cell_type": "markdown",
      "source": [
        "* 1~n까지의 Sum을 구하는 함수"
      ],
      "metadata": {
        "id": "mrbI8JeSnId4"
      }
    },
    {
      "cell_type": "code",
      "execution_count": null,
      "metadata": {
        "id": "GWzzBp1HQbvY"
      },
      "outputs": [],
      "source": [
        "def sum_of_n(n):\n",
        "    the_sum = 0\n",
        "    for i in range(1,n+1):\n",
        "        the_sum = the_sum + i\n",
        "    return the_sum"
      ]
    },
    {
      "cell_type": "code",
      "execution_count": null,
      "metadata": {
        "id": "LMWZPaxuQbvZ",
        "colab": {
          "base_uri": "https://localhost:8080/"
        },
        "outputId": "5e060994-da95-4f7b-cb92-b97b68bf4957"
      },
      "outputs": [
        {
          "output_type": "stream",
          "name": "stdout",
          "text": [
            "55\n"
          ]
        }
      ],
      "source": [
        "print(sum_of_n(10))"
      ]
    },
    {
      "cell_type": "markdown",
      "source": [
        "* 같은 기능을 수행하는 함수이지만 이해하기 어려운 변수명, 추가적인 할당"
      ],
      "metadata": {
        "id": "mVmzYyrunWQ3"
      }
    },
    {
      "cell_type": "code",
      "execution_count": null,
      "metadata": {
        "id": "OGMjWztBQbvZ"
      },
      "outputs": [],
      "source": [
        "def foo(tom):\n",
        "    fred = 0\n",
        "    for bill in range(1, tom+1):\n",
        "        barney = bill\n",
        "        fred = fred + barney\n",
        "    return fred"
      ]
    },
    {
      "cell_type": "code",
      "execution_count": null,
      "metadata": {
        "id": "u8EUO-qDQbvZ",
        "colab": {
          "base_uri": "https://localhost:8080/"
        },
        "outputId": "91804662-47d3-4eb9-addf-038529525a5d"
      },
      "outputs": [
        {
          "output_type": "stream",
          "name": "stdout",
          "text": [
            "55\n"
          ]
        }
      ],
      "source": [
        "print(foo(10))"
      ]
    },
    {
      "cell_type": "code",
      "execution_count": null,
      "metadata": {
        "id": "HJhIIy1PQbvZ"
      },
      "outputs": [],
      "source": [
        "import time\n",
        "\n",
        "def sum_of_n_2(n):\n",
        "    start = time.time()\n",
        "    the_sum = 0\n",
        "\n",
        "    for i in range(1, n+1):\n",
        "        the_sum = the_sum + i\n",
        "    end = time.time()\n",
        "\n",
        "    return the_sum, end - start"
      ]
    },
    {
      "cell_type": "code",
      "execution_count": null,
      "metadata": {
        "id": "oYQQI8RZQbvZ",
        "colab": {
          "base_uri": "https://localhost:8080/"
        },
        "outputId": "8a3ca776-f7b8-48b8-c2ae-e9e2d285cbea"
      },
      "outputs": [
        {
          "output_type": "stream",
          "name": "stdout",
          "text": [
            "Sum is 50005000 required  0.0010018 seconds\n",
            "Sum is 50005000 required  0.0009024 seconds\n",
            "Sum is 50005000 required  0.0009890 seconds\n",
            "Sum is 50005000 required  0.0013566 seconds\n",
            "Sum is 50005000 required  0.0007591 seconds\n"
          ]
        }
      ],
      "source": [
        "for i in range(5):\n",
        "    print(\"Sum is %d required %10.7f seconds\" % sum_of_n_2(10000))"
      ]
    },
    {
      "cell_type": "code",
      "execution_count": null,
      "metadata": {
        "id": "UTF88DcNQbvZ",
        "colab": {
          "base_uri": "https://localhost:8080/"
        },
        "outputId": "dfccccf0-0d78-4b23-af6c-90dbfd4a5120"
      },
      "outputs": [
        {
          "output_type": "stream",
          "name": "stdout",
          "text": [
            "Sum is 500000500000 required  0.0739386 seconds\n",
            "Sum is 500000500000 required  0.0659854 seconds\n",
            "Sum is 500000500000 required  0.0665572 seconds\n",
            "Sum is 500000500000 required  0.0728774 seconds\n",
            "Sum is 500000500000 required  0.0681710 seconds\n"
          ]
        }
      ],
      "source": [
        "for i in range(5):\n",
        "    print(\"Sum is %d required %10.7f seconds\" % sum_of_n_2(1000000))"
      ]
    },
    {
      "cell_type": "code",
      "execution_count": null,
      "metadata": {
        "id": "gJthW1UOQbvZ"
      },
      "outputs": [],
      "source": [
        "def sum_of_n_3(n):\n",
        "    return (n * (n + 1)) / 2"
      ]
    },
    {
      "cell_type": "code",
      "execution_count": null,
      "metadata": {
        "id": "F888shraQbvZ",
        "colab": {
          "base_uri": "https://localhost:8080/"
        },
        "outputId": "0fe38ffe-cf0d-481e-bd2a-6d5376a71740"
      },
      "outputs": [
        {
          "output_type": "stream",
          "name": "stdout",
          "text": [
            "55.0\n"
          ]
        }
      ],
      "source": [
        "print(sum_of_n_3(10))"
      ]
    },
    {
      "cell_type": "code",
      "execution_count": null,
      "metadata": {
        "id": "XCRuza0EQbvZ"
      },
      "outputs": [],
      "source": [
        "def sum_of_n_3(n):\n",
        "    start = time.time()\n",
        "    the_sum = (n * (n + 1)) / 2\n",
        "    end = time.time()\n",
        "\n",
        "    return the_sum, end - start"
      ]
    },
    {
      "cell_type": "code",
      "execution_count": null,
      "metadata": {
        "id": "-zQ62qguQbva",
        "colab": {
          "base_uri": "https://localhost:8080/"
        },
        "outputId": "2053b6d8-5166-44ba-91f6-2a9a207d5c0e"
      },
      "outputs": [
        {
          "output_type": "stream",
          "name": "stdout",
          "text": [
            "Sum is 5000050000 required  0.0000012 seconds\n",
            "Sum is 500000500000 required  0.0000012 seconds\n",
            "Sum is 50000005000000 required  0.0000005 seconds\n",
            "Sum is 5000000050000000 required  0.0000012 seconds\n",
            "Sum is 500000000500000000 required  0.0000007 seconds\n"
          ]
        }
      ],
      "source": [
        "for i in range(5):\n",
        "    print(\"Sum is %d required %10.7f seconds\" % sum_of_n_3(10000 * (10 ** (i+1))))"
      ]
    },
    {
      "cell_type": "markdown",
      "metadata": {
        "id": "Ppm3Ck6pRFxd"
      },
      "source": [
        "## 3. Big-$\\mathcal{O}$ Notation"
      ]
    },
    {
      "cell_type": "markdown",
      "source": [
        "###p.23 Example"
      ],
      "metadata": {
        "id": "xjxlqtTvUTDP"
      }
    },
    {
      "cell_type": "code",
      "execution_count": null,
      "metadata": {
        "id": "0eOZF2-NRFxd"
      },
      "outputs": [],
      "source": [
        "def sum_quad(n):\n",
        "    partialSum = 0\n",
        "    for i in range(n):\n",
        "        partialSum += i*i*i\n",
        "    return partialSum"
      ]
    },
    {
      "cell_type": "code",
      "execution_count": null,
      "metadata": {
        "id": "o0ucBJZ3RFxe",
        "outputId": "c8b89072-c49e-4370-8c60-d4b16917b1b9"
      },
      "outputs": [
        {
          "data": {
            "text/plain": [
              "100"
            ]
          },
          "execution_count": 2,
          "metadata": {},
          "output_type": "execute_result"
        }
      ],
      "source": [
        "sum_quad(5)"
      ]
    },
    {
      "cell_type": "markdown",
      "metadata": {
        "id": "h-ZifLFMRFxe"
      },
      "source": [
        "### Rule 2"
      ]
    },
    {
      "cell_type": "code",
      "execution_count": null,
      "metadata": {
        "id": "weTk0vauRFxf",
        "outputId": "15e151bd-7aec-4fbb-d050-b27ea33d6e63"
      },
      "outputs": [
        {
          "name": "stdout",
          "output_type": "stream",
          "text": [
            "4000\n"
          ]
        }
      ],
      "source": [
        "N = 100\n",
        "M = 40\n",
        "k = 0\n",
        "for i in range(N):\n",
        "    for j in range(M):\n",
        "        k += 1\n",
        "\n",
        "print(k)"
      ]
    },
    {
      "cell_type": "markdown",
      "metadata": {
        "id": "fBWjVRYIRFxf"
      },
      "source": [
        "### Rule 3"
      ]
    },
    {
      "cell_type": "code",
      "execution_count": null,
      "metadata": {
        "id": "QuoRIbPjRFxf",
        "outputId": "4ce9e2bc-5bea-407c-964d-0bae8c12fa5f"
      },
      "outputs": [
        {
          "name": "stdout",
          "output_type": "stream",
          "text": [
            "978\n"
          ]
        }
      ],
      "source": [
        "N = 100\n",
        "M = 40\n",
        "k = 0\n",
        "for i in range(N):\n",
        "    for j in range(N):\n",
        "        k = i + j\n",
        "for i in range(M):\n",
        "    k += i\n",
        "\n",
        "print(k)\n"
      ]
    },
    {
      "cell_type": "markdown",
      "metadata": {
        "id": "v0JGi3UJRFxf"
      },
      "source": [
        "### Rule 4"
      ]
    },
    {
      "cell_type": "code",
      "execution_count": null,
      "metadata": {
        "id": "AHwoDArSRFxf",
        "outputId": "39388b48-7eaf-4e5d-8ae8-cd09d6b74d05"
      },
      "outputs": [
        {
          "name": "stdout",
          "output_type": "stream",
          "text": [
            "score : 50\n",
            "score : 29\n",
            "score : 59\n",
            "score : 80\n",
            "score : 99\n",
            "score : 100\n"
          ]
        }
      ],
      "source": [
        "score = [50, 29, 59, 80, 99, 100]\n",
        "\n",
        "if len(score) > 5:\n",
        "    for i in score:\n",
        "        print(\"score : %d\" % i)\n",
        "else:\n",
        "    print(\"not enough scores\")\n"
      ]
    },
    {
      "cell_type": "markdown",
      "metadata": {
        "id": "sWWMOa6yRFxf"
      },
      "source": [
        "### p.31 순환 Recursive"
      ]
    },
    {
      "cell_type": "markdown",
      "metadata": {
        "id": "GA8Q1UxmRFxf"
      },
      "source": [
        "* factorial"
      ]
    },
    {
      "cell_type": "code",
      "execution_count": null,
      "metadata": {
        "id": "ubWAl6ThRFxf"
      },
      "outputs": [],
      "source": [
        "def factorial(n):\n",
        "    if n==1:\n",
        "        return 1\n",
        "    else:\n",
        "        return n*factorial(n-1)"
      ]
    },
    {
      "cell_type": "code",
      "execution_count": null,
      "metadata": {
        "id": "pVTrqxGgRFxg",
        "outputId": "e178023b-57b5-4f18-cfc6-7bbda2f0c61b"
      },
      "outputs": [
        {
          "name": "stdout",
          "output_type": "stream",
          "text": [
            "3628800\n"
          ]
        }
      ],
      "source": [
        "print(factorial(10))"
      ]
    },
    {
      "cell_type": "code",
      "execution_count": null,
      "metadata": {
        "id": "QmL-LqftRFxg"
      },
      "outputs": [],
      "source": [
        "def factorial2(n):\n",
        "    result = 1\n",
        "    for k in range(n,0,-1):\n",
        "        result = result * k\n",
        "    return result"
      ]
    },
    {
      "cell_type": "code",
      "execution_count": null,
      "metadata": {
        "id": "qeiuSt6ARFxg",
        "outputId": "3bc4149a-ecd7-4601-d1fe-02e6729daf08"
      },
      "outputs": [
        {
          "name": "stdout",
          "output_type": "stream",
          "text": [
            "3628800\n"
          ]
        }
      ],
      "source": [
        "print(factorial2(10))"
      ]
    },
    {
      "cell_type": "markdown",
      "metadata": {
        "id": "GLsUHJ2KRFxg"
      },
      "source": [
        "* 거듭제곱"
      ]
    },
    {
      "cell_type": "code",
      "execution_count": null,
      "metadata": {
        "id": "0B2bueEKRFxg"
      },
      "outputs": [],
      "source": [
        "import math as m"
      ]
    },
    {
      "cell_type": "code",
      "execution_count": null,
      "metadata": {
        "id": "4y9VEGQmRFxg",
        "outputId": "6609d2a2-576a-4e32-96ca-1b072af2a14b"
      },
      "outputs": [
        {
          "data": {
            "text/plain": [
              "8.0"
            ]
          },
          "execution_count": 11,
          "metadata": {},
          "output_type": "execute_result"
        }
      ],
      "source": [
        "m.pow(2,3)"
      ]
    },
    {
      "cell_type": "code",
      "execution_count": null,
      "metadata": {
        "id": "rtjMT_p7RFxg"
      },
      "outputs": [],
      "source": [
        "def power_iter(x,n):\n",
        "    result = 1.0\n",
        "    for i in range(n):\n",
        "        result = result * x\n",
        "    return result"
      ]
    },
    {
      "cell_type": "code",
      "execution_count": null,
      "metadata": {
        "id": "ak5Z_uPfRFxg",
        "outputId": "7317ba34-7a43-4af8-ee7a-d73940a10cf9"
      },
      "outputs": [
        {
          "name": "stdout",
          "output_type": "stream",
          "text": [
            "8.0\n"
          ]
        }
      ],
      "source": [
        "print(power_iter(2,3))"
      ]
    },
    {
      "cell_type": "code",
      "execution_count": null,
      "metadata": {
        "id": "8rn7tVW0RFxg"
      },
      "outputs": [],
      "source": [
        "def power_recur(x,n):\n",
        "    if n ==0:\n",
        "      return 1\n",
        "    elif (n % 2) == 0 :\n",
        "      return power_recur(x*x,n//2)\n",
        "    else :\n",
        "      return x*power_recur(x*x, (n-1)//2)"
      ]
    },
    {
      "cell_type": "code",
      "execution_count": null,
      "metadata": {
        "id": "WR0jPi_WRFxg",
        "outputId": "0945fe39-941e-4f05-809c-3f7539c8ea1b",
        "colab": {
          "base_uri": "https://localhost:8080/"
        }
      },
      "outputs": [
        {
          "output_type": "stream",
          "name": "stdout",
          "text": [
            "216\n"
          ]
        }
      ],
      "source": [
        "print(power_recur(6,3))"
      ]
    },
    {
      "cell_type": "markdown",
      "metadata": {
        "id": "PnlzLq9YRFxg"
      },
      "source": [
        "* p.36 피보나치 수열"
      ]
    },
    {
      "cell_type": "code",
      "execution_count": null,
      "metadata": {
        "id": "Diujr2B4RFxg"
      },
      "outputs": [],
      "source": [
        "import time"
      ]
    },
    {
      "cell_type": "code",
      "execution_count": null,
      "metadata": {
        "id": "3y4SG5ZQRFxh",
        "outputId": "3789c540-04ad-4089-b3bb-5eabe139c091"
      },
      "outputs": [
        {
          "name": "stdout",
          "output_type": "stream",
          "text": [
            "55\n"
          ]
        }
      ],
      "source": [
        "def fib(n):\n",
        "    if n == 0:\n",
        "        return 0\n",
        "    elif n == 1 or n == 2:\n",
        "        return 1\n",
        "    else:\n",
        "        return fib(n - 1) + fib(n - 2)\n",
        "\n",
        "n = int(input(\"숫자를 입력하세요.\"))\n",
        "\n",
        "start = time.time()\n",
        "print(fib(n))\n",
        "end = time.time()"
      ]
    },
    {
      "cell_type": "code",
      "execution_count": null,
      "metadata": {
        "id": "dCBqb8Y3RFxh",
        "outputId": "e458b5a1-f3c8-48aa-f59c-1ea9aa87f351"
      },
      "outputs": [
        {
          "data": {
            "text/plain": [
              "1650347906.8174057"
            ]
          },
          "execution_count": 18,
          "metadata": {},
          "output_type": "execute_result"
        }
      ],
      "source": [
        "start"
      ]
    },
    {
      "cell_type": "code",
      "execution_count": null,
      "metadata": {
        "id": "QV_3Yi1xRFxh",
        "outputId": "6a79910a-d753-4e8b-9844-384d693c2e6d"
      },
      "outputs": [
        {
          "data": {
            "text/plain": [
              "1650347906.8174057"
            ]
          },
          "execution_count": 19,
          "metadata": {},
          "output_type": "execute_result"
        }
      ],
      "source": [
        "end"
      ]
    },
    {
      "cell_type": "code",
      "execution_count": null,
      "metadata": {
        "id": "Im63HtfsRFxh",
        "outputId": "a5fa9462-b43e-49e2-9cce-d2174ff0589f"
      },
      "outputs": [
        {
          "name": "stdout",
          "output_type": "stream",
          "text": [
            "running time :  0.0000000 seconds\n"
          ]
        }
      ],
      "source": [
        "print(\"running time : %10.7f seconds\" % (end - start))"
      ]
    },
    {
      "cell_type": "code",
      "execution_count": null,
      "metadata": {
        "id": "xiQtUm-yRFxh",
        "outputId": "8a5186a8-f63c-49c2-e61d-75109e3297eb"
      },
      "outputs": [
        {
          "name": "stdout",
          "output_type": "stream",
          "text": [
            "6765\n"
          ]
        }
      ],
      "source": [
        "def fib_iter(n):\n",
        "    if (n < 2):\n",
        "        return n\n",
        "    last = 0\n",
        "    current = 1\n",
        "    for i in range(2, n+1):\n",
        "        tmp = current\n",
        "        current += last\n",
        "        last = tmp\n",
        "    return current\n",
        "\n",
        "n = int(input(\"숫자를 입력하세요.\"))\n",
        "start = time.time()\n",
        "print(fib_iter(n))\n",
        "end = time.time()"
      ]
    },
    {
      "cell_type": "code",
      "execution_count": null,
      "metadata": {
        "id": "UoBRLBWJRFxh",
        "outputId": "4e23fb5b-1f10-476a-fe9b-e1bde95761b0"
      },
      "outputs": [
        {
          "data": {
            "text/plain": [
              "1650347934.4749465"
            ]
          },
          "execution_count": 26,
          "metadata": {},
          "output_type": "execute_result"
        }
      ],
      "source": [
        "start"
      ]
    },
    {
      "cell_type": "code",
      "execution_count": null,
      "metadata": {
        "id": "5_ZyoHrvRFxh",
        "outputId": "78979a42-a2a3-4b0c-9dbf-c7b957052ac1"
      },
      "outputs": [
        {
          "data": {
            "text/plain": [
              "1650347934.4749465"
            ]
          },
          "execution_count": 27,
          "metadata": {},
          "output_type": "execute_result"
        }
      ],
      "source": [
        "end"
      ]
    },
    {
      "cell_type": "code",
      "execution_count": null,
      "metadata": {
        "id": "lbyemPv5RFxh",
        "outputId": "f366d270-b0f2-47ba-c94f-fb60b92bde7e"
      },
      "outputs": [
        {
          "name": "stdout",
          "output_type": "stream",
          "text": [
            "running time :  0.0000000 seconds\n"
          ]
        }
      ],
      "source": [
        "print(\"running time : %10.7f seconds\" % (end - start))"
      ]
    }
  ]
}